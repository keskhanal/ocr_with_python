{
 "cells": [
  {
   "cell_type": "code",
   "execution_count": 3,
   "id": "a822e6c5",
   "metadata": {},
   "outputs": [],
   "source": [
    "#import libraries\n",
    "import pytesseract\n",
    "import cv2"
   ]
  },
  {
   "cell_type": "code",
   "execution_count": 4,
   "id": "f6edf82a",
   "metadata": {},
   "outputs": [],
   "source": [
    "#load image\n",
    "image = cv2.imread('data/sample_mgh_2.jpg')\n",
    "base_image = image.copy()"
   ]
  },
  {
   "cell_type": "code",
   "execution_count": 5,
   "id": "dd0a2e46",
   "metadata": {},
   "outputs": [],
   "source": [
    "#image preprocess\n",
    "gray = cv2.cvtColor(image, cv2.COLOR_BGR2GRAY)\n",
    "blur = cv2.GaussianBlur(gray, (7,7), 0)\n",
    "thresh = cv2.threshold(blur, 0, 255, cv2.THRESH_BINARY_INV + cv2.THRESH_OTSU)[1]\n",
    "\n",
    "# Create rectangular structuring element and dilate\n",
    "kernel = cv2.getStructuringElement(cv2.MORPH_RECT, (3,25))\n",
    "dilate = cv2.dilate(thresh, kernel, iterations=1)\n",
    "\n",
    "# Find contours and draw rectangle\n",
    "cnts = cv2.findContours(dilate, cv2.RETR_EXTERNAL, cv2.CHAIN_APPROX_SIMPLE)\n",
    "cnts = cnts[0] if len(cnts) == 2 else cnts[1]\n",
    "cnts = sorted(cnts, key=lambda x: cv2.boundingRect(x)[1])"
   ]
  },
  {
   "cell_type": "code",
   "execution_count": 16,
   "id": "4bdfe161",
   "metadata": {},
   "outputs": [
    {
     "data": {
      "text/plain": [
       "True"
      ]
     },
     "execution_count": 16,
     "metadata": {},
     "output_type": "execute_result"
    }
   ],
   "source": [
    "for c in cnts:\n",
    "    x,y,w,h = cv2.boundingRect(c)\n",
    "    if h > 200 and w > 250:\n",
    "        roi = base_image[y:y+h, 0:x]\n",
    "        #cv2.rectangle(image, (0, y), (x, 0 + h+20), (36,255,12), 2)\n",
    "        \n",
    "        constant= cv2.copyMakeBorder(roi.copy(),30,30,30,30,cv2.BORDER_CONSTANT,value=[255,255,255])\n",
    "        ocr_result = pytesseract.image_to_string(constant)\n",
    "        \n",
    "cv2.imwrite(\"temp/capture_sidenote.png\", roi)"
   ]
  },
  {
   "cell_type": "code",
   "execution_count": 20,
   "id": "1b81a88c",
   "metadata": {},
   "outputs": [
    {
     "name": "stdout",
     "output_type": "stream",
     "text": [
      "786\n",
      "Ez, 13, 5.\n",
      "£117.\n",
      "\n",
      "Ez, 8, 18. 19.\n",
      "\n",
      "Toh. 10, 11.\n",
      "\n",
      "Tudae 12.\n",
      "‘Matth. 25, 21.\n",
      "\n",
      "1, Petr. 5,3.\n",
      "\n",
      "\"fay.\n",
      "\n",
      "ef, Lue, 12,\n",
      "35.\n",
      "\n",
      "“col. 578,\n",
      "\n",
      "Matth. 23,27,\n",
      "Math. 6, 1.\n",
      "\n"
     ]
    }
   ],
   "source": [
    "print(ocr_result)"
   ]
  },
  {
   "cell_type": "code",
   "execution_count": 22,
   "id": "5496168a",
   "metadata": {},
   "outputs": [
    {
     "data": {
      "text/plain": [
       "['786\\nEz, 13, 5.\\n£117.',\n",
       " 'Ez, 8, 18. 19.',\n",
       " 'Toh. 10, 11.',\n",
       " 'Tudae 12.\\n‘Matth. 25, 21.',\n",
       " '1, Petr. 5,3.',\n",
       " '\"fay.',\n",
       " 'ef, Lue, 12,\\n35.',\n",
       " '“col. 578,',\n",
       " 'Matth. 23,27,\\nMath. 6, 1.\\n']"
      ]
     },
     "execution_count": 22,
     "metadata": {},
     "output_type": "execute_result"
    }
   ],
   "source": [
    "results = ocr_result.split(\"\\n\\n\")\n",
    "results"
   ]
  },
  {
   "cell_type": "code",
   "execution_count": null,
   "id": "e58bdb91",
   "metadata": {},
   "outputs": [],
   "source": []
  }
 ],
 "metadata": {
  "kernelspec": {
   "display_name": "Python 3 (ipykernel)",
   "language": "python",
   "name": "python3"
  },
  "language_info": {
   "codemirror_mode": {
    "name": "ipython",
    "version": 3
   },
   "file_extension": ".py",
   "mimetype": "text/x-python",
   "name": "python",
   "nbconvert_exporter": "python",
   "pygments_lexer": "ipython3",
   "version": "3.9.12"
  }
 },
 "nbformat": 4,
 "nbformat_minor": 5
}
