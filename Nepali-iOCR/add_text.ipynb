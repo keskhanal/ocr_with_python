{
 "cells": [
  {
   "cell_type": "markdown",
   "id": "8ba37b39",
   "metadata": {},
   "source": [
    "## import libraries"
   ]
  },
  {
   "cell_type": "code",
   "execution_count": 159,
   "id": "1158fc1b",
   "metadata": {},
   "outputs": [],
   "source": [
    "# !pip install jsonify\n",
    "from jsonify import convert"
   ]
  },
  {
   "cell_type": "code",
   "execution_count": 1,
   "id": "fe3f2069",
   "metadata": {},
   "outputs": [],
   "source": [
    "import cv2 as cv\n",
    "import numpy as np\n",
    "import pytesseract as pt\n",
    "\n",
    "import matplotlib.pyplot as plt\n",
    "\n",
    "import fitz\n",
    "\n",
    "import os\n",
    "import numpy as np\n",
    "from PIL import Image\n",
    "from fpdf import FPDF\n",
    "# from PyPDF2 import PdfReader"
   ]
  },
  {
   "cell_type": "markdown",
   "id": "8f89586b",
   "metadata": {},
   "source": [
    "## image preprocessing"
   ]
  },
  {
   "cell_type": "raw",
   "id": "6abf3f99",
   "metadata": {},
   "source": [
    "def pre_process(img):\n",
    "    gray_image = cv.cvtColor(img, cv.COLOR_BGR2GRAY)\n",
    "\n",
    "    ret,thresh = cv.threshold(gray_image, 0, 255, cv.THRESH_OTSU | cv.THRESH_BINARY_INV)\n",
    "\n",
    "    #dilation\n",
    "    kernel = cv.getStructuringElement(cv.MORPH_RECT, (14, 14))\n",
    "\n",
    "    # Applying dilation on the threshold image\n",
    "    dilated_image = cv.dilate(thresh, kernel, iterations = 1)\n",
    "    \n",
    "    return dilated_image"
   ]
  },
  {
   "cell_type": "raw",
   "id": "f4e883c7",
   "metadata": {},
   "source": [
    "img = cv.imread(\"test_file/test.jpeg\")\n",
    "\n",
    "dilated_img = pre_process(img)\n",
    "\n",
    "plt.figure(figsize=(10,8))\n",
    "plt.imshow(dilated_img, cmap='gray');plt.title(\"dilated image\");plt.axis(\"off\")\n",
    "plt.show()"
   ]
  },
  {
   "cell_type": "markdown",
   "id": "313666b3",
   "metadata": {},
   "source": [
    "## add text to given location"
   ]
  },
  {
   "cell_type": "raw",
   "id": "8d59a58a",
   "metadata": {},
   "source": [
    "doc = fitz.open(\"test_file/blank.pdf\")           \n",
    "page = doc[1]                         # choose some page\n",
    "\n",
    "text = \"absolutely not\"\n",
    "# fontname_to_use = \"Times-Roman\"\n",
    "\n",
    "rect_x1 = 300\n",
    "rect_y1 = 400\n",
    "rect_x2 = 500\n",
    "rect_y2 = 500\n",
    "\n",
    "rect_width = rect_x2 - rect_x1\n",
    "rect_height = rect_y2 - rect_y1\n",
    "\n",
    "rect = (rect_x1, rect_y1, rect_x2, rect_y2)\n",
    "\n",
    "## Uncomment if you wish to display rect\n",
    "page.draw_rect(rect,color=(.25,1,0.25))\n",
    "\n",
    "rc = page.insert_textbox(rect, text,\n",
    "                        fontsize=16,\n",
    "                        #fontname=fontname_to_use,\n",
    "                        align=1)\n",
    "\n",
    "# doc.saveIncr()   # update file. \n",
    "# doc.save(\"test_file/test101.pdf\") # Save to new file"
   ]
  },
  {
   "cell_type": "raw",
   "id": "b3179244",
   "metadata": {},
   "source": [
    "file = \"test_file/news.png\"\n",
    "img1 = cv.imread(file)\n",
    "\n",
    "pdf_doc = fitz.open(file)\n",
    "output_doc = fitz.open()\n",
    "\n",
    "page = output_doc.new_page(width=img1.shape[1], height=img1.shape[0])  # make page in target Document\n",
    "\n",
    "custom_config = r'-l eng --oem 3 --psm 1'\n",
    "box = pt.image_to_data(img1, config=custom_config)\n",
    "\n",
    "for z, a in enumerate(box.splitlines()):\n",
    "    if z != 0:\n",
    "        a = a.split()\n",
    "        if len(a) == 12:\n",
    "            x,y = int(a[6]), int(a[7])\n",
    "            w,h = int(a[8]), int(a[9])\n",
    "            \n",
    "            rect = (x, y, x+w, y+h)\n",
    "            \n",
    "            text = a[11]\n",
    "            \n",
    "            fontsize = w/len(text)\n",
    "            \n",
    "#             page.draw_rect(rect,color=(.25,1,0.25))\n",
    "\n",
    "            rc = page.insert_textbox(rect, text,\n",
    "                        fontsize=fontsize,\n",
    "                        align=1)\n",
    "\n",
    "            cv.rectangle(img1, (x,y), (x + w, y + h), (0,255,0), 2)\n",
    "\n",
    "            \n",
    "output_doc.save(\"test_file/test101.pdf\") # Save to new file\n",
    "\n",
    "plt.figure(figsize=(10,8))\n",
    "plt.imshow(img1);plt.title(\"boxes on image\");plt.axis(\"off\")\n",
    "plt.show()"
   ]
  },
  {
   "cell_type": "raw",
   "id": "ed39170c",
   "metadata": {},
   "source": [
    "img2 = cv.imread(\"test_file/test.png\")\n",
    "rect_lists = []\n",
    "\n",
    "dil_img = pre_process(img2)\n",
    "\n",
    "output_doc = fitz.open()\n",
    "page = output_doc.new_page(width=img2.shape[1], height=img2.shape[0])  # make page in target Document\n",
    "\n",
    "(cnt, heirarchy) = cv.findContours(dil_img, cv.RETR_EXTERNAL, cv.CHAIN_APPROX_NONE)\n",
    "sorted_contour_lines = sorted(cnt, key=lambda cntr : cv.boundingRect(cntr)[1])\n",
    "\n",
    "for line in sorted_contour_lines:\n",
    "    # roi of each line\n",
    "    x, y, w, h = cv.boundingRect(line)\n",
    "#     roi_line = dil_img[y:y+w, x:x+w]\n",
    "    \n",
    "#     # draw contours on each word\n",
    "#     (cnt, heirarchy) = cv.findContours(roi_line.copy(), cv.RETR_EXTERNAL, cv.CHAIN_APPROX_NONE)\n",
    "#     sorted_contour_words = sorted(cnt, key=lambda cntr : cv.boundingRect(cntr)[0])\n",
    "#     # print(sorted_contour_words)\n",
    "    \n",
    "#     for word in sorted_contour_words:\n",
    "#         if cv.contourArea(word) > 700:\n",
    "#             x2, y2, w2, h2 = cv.boundingRect(word)\n",
    "    rect_lists.append([x, y, x+w, y+h])\n",
    "    cv.rectangle(img2, (x, y), (x+w, y+h), (0,255,0),2)\n",
    "        \n",
    "plt.figure(figsize=(10,8))\n",
    "plt.imshow(img2);plt.title(\"contour drawn on image\");plt.axis(\"off\")\n",
    "plt.show()"
   ]
  },
  {
   "cell_type": "raw",
   "id": "8d301602",
   "metadata": {},
   "source": [
    "custom_config = r'-l nep+eng --oem 3 --psm 1'\n",
    "\n",
    "# output_doc = fitz.open()\n",
    "# page = output_doc.new_page(width=img2.shape[1], height=img2.shape[0])  # make page in target Document\n",
    "\n",
    "for rect in rect_lists:\n",
    "    image = img2[rect[1]:rect[3], rect[0]:rect[2]]\n",
    "    \n",
    "    text = pt.image_to_string(image, config=custom_config)\n",
    "    \n",
    "    plt.figure(figsize=(4,3))\n",
    "    plt.imshow(image);plt.title(f\"{i} contour image\");plt.axis(\"off\")\n",
    "    plt.show()\n",
    "    \n",
    "    print(rect)\n",
    "    print(text)"
   ]
  },
  {
   "cell_type": "raw",
   "id": "d7b66f81",
   "metadata": {},
   "source": [
    "img3 = cv.imread(\"test_file/news.png\")\n",
    "rect_lists = []\n",
    "\n",
    "dil_img1 = pre_process(img3)\n",
    "\n",
    "(contours, heirarchy) = cv.findContours(dil_img1, cv.RETR_EXTERNAL, cv.CHAIN_APPROX_NONE)\n",
    "sorted_contours_lines = sorted(contours, key = lambda ctr : cv.boundingRect(ctr)[0])\n",
    "\n",
    "for line in sorted_contours_lines:    \n",
    "    x, y, w, h = cv.boundingRect(line)\n",
    "    \n",
    "    if cv.contourArea(line) > 1500:\n",
    "        rect_lists.append([x, y, x+w, y+h])\n",
    "        \n",
    "        cv.rectangle(img3, (x, y), (x+w, y+h), (0,255,0),2)\n",
    "\n",
    "plt.figure(figsize=(10,8))\n",
    "plt.imshow(img3);plt.title(\"contour drawn on image\");plt.axis(\"off\")\n",
    "plt.show()"
   ]
  },
  {
   "cell_type": "raw",
   "id": "9b1d97ac",
   "metadata": {},
   "source": [
    "for rect in rect_lists:\n",
    "    image = img3[rect[1]:rect[3], rect[0]:rect[2]]\n",
    "    \n",
    "    text = pt.image_to_string(image, config=custom_config)\n",
    "    \n",
    "    plt.figure(figsize=(4,3))\n",
    "    plt.imshow(image);plt.title(f\"contour image\");plt.axis(\"off\")\n",
    "    plt.show()\n",
    "    \n",
    "    print(text)"
   ]
  },
  {
   "cell_type": "raw",
   "id": "070a7750",
   "metadata": {},
   "source": [
    "# ffile = \"fonts/preeti.otf\"  # preeti font\n",
    "\n",
    "output_doc = fitz.open()\n",
    "page = output_doc.new_page(width=img3.shape[1], height=img3.shape[0])  # make page in target Document\n",
    "\n",
    "# page.insert_font(fontname=\"preeti\", fontfile=ffile)\n",
    "\n",
    "for i in range(0, len(rect_lists)):\n",
    "    rect = rect_lists[i]\n",
    "    image = img3[rect[1]:rect[3], rect[0]:rect[2]]\n",
    "    \n",
    "    width = rect[2]-rect[0]\n",
    "    height = rect[3] - rect[1]\n",
    "    \n",
    "    text = pt.image_to_string(image, config=custom_config)\n",
    "    \n",
    "#     textwidth = fitz.get_text_length(text)    \n",
    "    \n",
    "#     try: \n",
    "#         fontsize = width/textwidth * 10\n",
    "#     except ZeroDivisionError:\n",
    "#         pass\n",
    "    \n",
    "    page.draw_rect(rect,color=(.25,1,0.25))\n",
    "    \n",
    "    rc = page.insert_textbox(rect,\n",
    "                             text, \n",
    "                             fontsize=9,\n",
    "                             align=1)\n",
    "\n",
    "    cv.rectangle(img3, (x,y), (x + w, y + h), (0,255,0), 2)\n",
    "            \n",
    "output_doc.save(\"test_file/test40.pdf\") # Save to new file\n",
    "\n",
    "plt.figure(figsize=(10,8))\n",
    "plt.imshow(img3);plt.title(\"boxes on image\");plt.axis(\"off\")\n",
    "plt.show()"
   ]
  },
  {
   "cell_type": "code",
   "execution_count": 187,
   "id": "e4970e7a",
   "metadata": {},
   "outputs": [],
   "source": [
    "from collections import defaultdict\n",
    "\n",
    "class Preprocess():\n",
    "    def __init__(self, img):\n",
    "        self.img = img\n",
    "        \n",
    "    def pre_process(self):\n",
    "        gray_image = cv.cvtColor(self.img, cv.COLOR_BGR2GRAY)\n",
    "\n",
    "        ret,thresh = cv.threshold(gray_image, 0, 255, cv.THRESH_OTSU | cv.THRESH_BINARY_INV)\n",
    "\n",
    "        #dilation\n",
    "        kernel = cv.getStructuringElement(cv.MORPH_RECT, (14, 14))\n",
    "\n",
    "        # Applying dilation on the threshold image\n",
    "        dilated_image = cv.dilate(thresh, kernel, iterations = 1)\n",
    "\n",
    "        return dilated_image\n",
    "\n",
    "\n",
    "class Recognize():\n",
    "    def __init__(self, final_img):\n",
    "        self.final_img = final_img\n",
    "        \n",
    "    def rect(self, original_img):\n",
    "        \n",
    "        original_img_area = original_img.shape[0]*original_img.shape[1]\n",
    "        \n",
    "        outer_dict = defaultdict(dict)\n",
    "        \n",
    "        (contours, heirarchy) = cv.findContours(self.final_img, cv.RETR_EXTERNAL, cv.CHAIN_APPROX_NONE)\n",
    "        sorted_contours_lines = sorted(contours, key = lambda ctr : cv.boundingRect(ctr)[0])\n",
    "        \n",
    "        test = []\n",
    "        for line in sorted_contours_lines:\n",
    "            x, y, w, h = cv.boundingRect(line)\n",
    "            rect = (x, y, x+w, y+h)\n",
    "            rect_area = (rect[2]-rect[0])*(rect[3]-rect[1])\n",
    "            \n",
    "            if cv.contourArea(line) > 1500 and rect_area != original_img_area:\n",
    "                image = original_img[rect[1]:rect[3], rect[0]:rect[2]]\n",
    "    \n",
    "                text = pt.image_to_string(image, config=custom_config)\n",
    "                \n",
    "                inner_dict = {\"text\": text, \"text_box\": rect}\n",
    "                \n",
    "        outer_dict[\"page\"][\"text\"] = inner_dict\n",
    "                \n",
    "#         page_info[\"page\"] = test\n",
    "                \n",
    "        return outer_dict"
   ]
  },
  {
   "cell_type": "code",
   "execution_count": 188,
   "id": "4de6d110",
   "metadata": {},
   "outputs": [],
   "source": [
    "custom_config = r'-l eng --oem 3 --psm 1'\n",
    "\n",
    "image = cv.imread(\"test_file/test.jpeg\")\n",
    "preprocess = Preprocess(image)\n",
    "pre_processed_image = preprocess.pre_process()"
   ]
  },
  {
   "cell_type": "code",
   "execution_count": 189,
   "id": "ceed127b",
   "metadata": {},
   "outputs": [
    {
     "name": "stdout",
     "output_type": "stream",
     "text": [
      "{'text': {'text': 'Pappadeaux Salad\\n', 'text_box': (985, 329, 1259, 370)}}\n"
     ]
    }
   ],
   "source": [
    "recognize = Recognize(pre_processed_image)\n",
    "rect_lists = recognize.rect(image)\n",
    "print(rect_lists[\"page\"])"
   ]
  },
  {
   "cell_type": "code",
   "execution_count": 171,
   "id": "6d26c92c",
   "metadata": {},
   "outputs": [],
   "source": [
    "import json\n",
    "\n",
    "with open(\"sample.json\", \"w\") as outfile:\n",
    "    json.dump(rect_lists, outfile)"
   ]
  },
  {
   "cell_type": "code",
   "execution_count": null,
   "id": "0d37cad8",
   "metadata": {},
   "outputs": [],
   "source": []
  }
 ],
 "metadata": {
  "kernelspec": {
   "display_name": "Python 3 (ipykernel)",
   "language": "python",
   "name": "python3"
  },
  "language_info": {
   "codemirror_mode": {
    "name": "ipython",
    "version": 3
   },
   "file_extension": ".py",
   "mimetype": "text/x-python",
   "name": "python",
   "nbconvert_exporter": "python",
   "pygments_lexer": "ipython3",
   "version": "3.8.15"
  }
 },
 "nbformat": 4,
 "nbformat_minor": 5
}
